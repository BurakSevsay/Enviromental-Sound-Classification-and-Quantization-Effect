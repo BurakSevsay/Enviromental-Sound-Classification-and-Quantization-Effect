{
 "cells": [
  {
   "cell_type": "markdown",
   "id": "43047804",
   "metadata": {},
   "source": [
    "# Enviromental Sound Classification and Quantization Effect"
   ]
  },
  {
   "cell_type": "markdown",
   "id": "07ff4729",
   "metadata": {},
   "source": [
    "This project aims to construct a CNN model for environmental sound classification problem. Then, investigate the quantization effect on the constructed model. All neccessary details are given under the related subtitle."
   ]
  },
  {
   "cell_type": "markdown",
   "id": "f4edf523",
   "metadata": {},
   "source": [
    "Important Notice: UrbanSound8k Dataset should be downloaded before executing the notebook. The Dataset should be under the \"audio\" folder that is in the same folder with this notebook. Also, the metadata excell that contains the dataset information should be ready in the file called \"metadata\". Both of them can be downloaded from the same link. \n",
    "Download link of dataset: https://urbansounddataset.weebly.com/urbansound8k.html\n",
    "\n",
    "Example file structre : source -> Notebook.ipynb, audio, metadata . metadata -> UrbanSound8K.csv . audio -> fold1, fold2 ..."
   ]
  },
  {
   "cell_type": "code",
   "execution_count": 1,
   "id": "ffd4f431",
   "metadata": {},
   "outputs": [],
   "source": [
    "import os\n",
    "import numpy as np\n",
    "import pandas as pd\n",
    "import librosa\n",
    "import librosa.display\n",
    "\n",
    "import pickle\n",
    "from scipy.io import wavfile as wav\n",
    "import math\n",
    "\n",
    "import time\n",
    "import torch\n",
    "import torch.nn.functional as F\n",
    "import torch.nn as nn\n",
    "import torch.optim as optim\n",
    "from torch.utils.data import TensorDataset, Dataset, DataLoader\n",
    "import torch.quantization\n",
    "\n",
    "from sklearn.model_selection import train_test_split\n",
    "from sklearn.preprocessing import LabelEncoder\n",
    "from tensorflow.keras.utils import to_categorical\n",
    "\n",
    "from decimal import *\n",
    "import matplotlib.pyplot as plt\n",
    "%matplotlib inline\n"
   ]
  },
  {
   "cell_type": "markdown",
   "id": "78b4f075",
   "metadata": {},
   "source": [
    "UrbanSound8K is a public audio dataset that contains 8732 labeled sound excerpts (<=4s) of urban sounds from 10 classes: air_conditioner, car_horn, children_playing, dog_bark, drilling, enginge_idling, gun_shot, jackhammer, siren, and street_music."
   ]
  },
  {
   "cell_type": "code",
   "execution_count": 2,
   "id": "b9a38117",
   "metadata": {},
   "outputs": [
    {
     "name": "stdout",
     "output_type": "stream",
     "text": [
      "(8732, 8)\n",
      "      slice_file_name    fsID  start        end  salience  fold  classID  \\\n",
      "0    100032-3-0-0.wav  100032    0.0   0.317551         1     5        3   \n",
      "1  100263-2-0-117.wav  100263   58.5  62.500000         1     5        2   \n",
      "2  100263-2-0-121.wav  100263   60.5  64.500000         1     5        2   \n",
      "3  100263-2-0-126.wav  100263   63.0  67.000000         1     5        2   \n",
      "4  100263-2-0-137.wav  100263   68.5  72.500000         1     5        2   \n",
      "\n",
      "              class  \n",
      "0          dog_bark  \n",
      "1  children_playing  \n",
      "2  children_playing  \n",
      "3  children_playing  \n",
      "4  children_playing  \n"
     ]
    }
   ],
   "source": [
    "# Get Metadata of the Dataset, it contains labels of the auido files in the dataset\n",
    "meta_data = pd.read_csv(\"metadata/UrbanSound8K.csv\")  \n",
    "\n",
    "# Display shape and head of the dataset\n",
    "print(np.shape(meta_data)) # (8732, 8)\n",
    "print(meta_data.head())\n",
    "\n",
    "# Get list of the classes of the dataset from the metada file\n",
    "classes = list(meta_data['class'].unique()) "
   ]
  },
  {
   "cell_type": "markdown",
   "id": "5d62ed0d",
   "metadata": {},
   "source": [
    "# Feature Extraction : MFCC\n",
    "128 MFCC coefficient is extracted from the each audio in the dataset. LibRosa library is used for MFCC extraction. "
   ]
  },
  {
   "cell_type": "code",
   "execution_count": 3,
   "id": "e9db5652",
   "metadata": {},
   "outputs": [],
   "source": [
    "# Feature extraction function for mfcc , librosa library is used\n",
    "# Default number of mfcc coefficients is determined as 128\n",
    "def feature_extractor_mfcc(file_name,scale=True,padding=False,max_pad=None,n=128):\n",
    "    '''\n",
    "    Function to extract features from the audio file\n",
    "    Does the following things using Librosa library:\n",
    "        - Converts the sampling rate to 22.05 KHz\n",
    "        - Normalize the Bit-depth values of the audio\n",
    "        - Merge the audio channels into a Mono (single) channel\n",
    "    Parameters: \n",
    "    Input:\n",
    "        file_name : string; \n",
    "                    Path of the file to be processed \n",
    "        scale : False; \n",
    "                True when 1D features are required calculated \n",
    "                by taking mean along the axis\n",
    "        padding : False; \n",
    "                  True when 2D features are required with padding\n",
    "        max_pad : None [int]; \n",
    "                  Maxium size of a padded image/array. \n",
    "                  Required when padding is set to True\n",
    "        n = 40 [int]; \n",
    "            Number of MFCCs to return          \n",
    "    Output:\n",
    "        mfccs = array of mfccs features.\n",
    "                (1D when scaling = True\n",
    "                 2D when padding = True)   \n",
    "    '''\n",
    "    try:        \n",
    "        audio, sample_rate = librosa.load(file_name, \n",
    "                                          res_type='kaiser_fast') \n",
    "        \n",
    "        mfccs = librosa.feature.mfcc(y = audio, \n",
    "                                     sr = sample_rate, \n",
    "                                     n_mfcc = n) \n",
    "            \n",
    "        if padding:\n",
    "            pad_width = max_pad - mfccs.shape[1]\n",
    "            mfccs = np.pad(mfccs, \n",
    "                           pad_width=((0, 0), (0, pad_width)), \n",
    "                           mode='constant')\n",
    "            \n",
    "        if scale: \n",
    "            mfccs = np.mean(mfccs.T,axis=0)\n",
    "        \n",
    "    except Exception as e:\n",
    "        print(\"Error encountered while parsing file: \", file_name)\n",
    "        return None \n",
    "     \n",
    "    return mfccs"
   ]
  },
  {
   "cell_type": "code",
   "execution_count": 4,
   "id": "c2adc16c",
   "metadata": {},
   "outputs": [],
   "source": [
    "# Function to extract features from dataset and save it in the .pkl format (contains pandas.DataFrame)\n",
    "# Basically, it reads audio files in \"auido\" folder by checking from metadata excell\n",
    "def extract_mfcc():\n",
    "    feat_list_mfcc = []\n",
    "    for index, row in meta_data.iterrows():\n",
    "\n",
    "        file_name = os.path.join(os.path.abspath('audio/'),\n",
    "                                 'fold'+str(row[\"fold\"])+'/',\n",
    "                                 str(row[\"slice_file_name\"]))\n",
    "        class_label = row[\"class\"]\n",
    "        data_mfcc = feature_extractor_mfcc(file_name,scale=True)\n",
    "        feat_list_mfcc.append([data_mfcc, class_label])\n",
    "\n",
    "    features_mfcc = pd.DataFrame(feat_list_mfcc, columns=['feature','class_label'])\n",
    "\n",
    "    print('Processed ', len(features_mfcc), ' files')\n",
    "    print('Output Feature shape ',np.shape(features_mfcc.iloc[0,0]))\n",
    "    features_mfcc.to_pickle(\"./mfcc_128_features.pk1\")"
   ]
  },
  {
   "cell_type": "code",
   "execution_count": 5,
   "id": "e4571aa3",
   "metadata": {},
   "outputs": [
    {
     "name": "stderr",
     "output_type": "stream",
     "text": [
      "C:\\Users\\HAKAN\\anaconda3\\lib\\site-packages\\librosa\\core\\spectrum.py:222: UserWarning: n_fft=2048 is too small for input signal of length=1323\n",
      "  warnings.warn(\n",
      "C:\\Users\\HAKAN\\anaconda3\\lib\\site-packages\\librosa\\core\\spectrum.py:222: UserWarning: n_fft=2048 is too small for input signal of length=1103\n",
      "  warnings.warn(\n",
      "C:\\Users\\HAKAN\\anaconda3\\lib\\site-packages\\librosa\\core\\spectrum.py:222: UserWarning: n_fft=2048 is too small for input signal of length=1523\n",
      "  warnings.warn(\n"
     ]
    },
    {
     "name": "stdout",
     "output_type": "stream",
     "text": [
      "Processed  8732  files\n",
      "Output Feature shape  (128,)\n",
      "128 MFCC features extraction DONE\n"
     ]
    }
   ],
   "source": [
    "#Call feature extractors\n",
    "extract_mfcc()\n",
    "print(\"128 MFCC features extraction DONE\")"
   ]
  },
  {
   "cell_type": "markdown",
   "id": "ffc19914",
   "metadata": {},
   "source": [
    "# Create Dataset from extracted MFCC features"
   ]
  },
  {
   "cell_type": "code",
   "execution_count": 6,
   "id": "6e19aed0",
   "metadata": {},
   "outputs": [],
   "source": [
    "# Read fetures from saved point\n",
    "features_1D_mfcc_128 = pd.read_pickle(\"./mfcc_128_features.pk1\")\n",
    "# Convert pandas DataFrame to numpy arrays\n",
    "X_1D_mfcc_128 = np.array(features_1D_mfcc_128.feature.tolist())\n",
    "y_1D_mfcc_128_ = np.array(features_1D_mfcc_128.class_label.tolist())"
   ]
  },
  {
   "cell_type": "code",
   "execution_count": 7,
   "id": "6705deba",
   "metadata": {},
   "outputs": [],
   "source": [
    "# LabelEncoder is for Encode target labels with value between 0 and n_classes-1.\n",
    "label_encoders = LabelEncoder()\n",
    "y_1D_mfcc_128 = to_categorical(label_encoders.fit_transform(y_1D_mfcc_128_))"
   ]
  },
  {
   "cell_type": "code",
   "execution_count": 8,
   "id": "b841315e",
   "metadata": {},
   "outputs": [],
   "source": [
    "# Split datasaet to training and testing\n",
    "x_train, x_test, y_train, y_test = train_test_split(X_1D_mfcc_128,y_1D_mfcc_128,test_size=0.2,random_state = 42)"
   ]
  },
  {
   "cell_type": "code",
   "execution_count": 9,
   "id": "b354848f",
   "metadata": {},
   "outputs": [],
   "source": [
    "# Convert numpy arrays to tensors \n",
    "torch_x_train_ = torch.Tensor(x_train)\n",
    "torch_x_test_ = torch.Tensor(x_test)\n",
    "torch_y_train = torch.Tensor(y_train)\n",
    "torch_y_test = torch.Tensor(y_test)"
   ]
  },
  {
   "cell_type": "code",
   "execution_count": 10,
   "id": "b3cb6cda",
   "metadata": {},
   "outputs": [],
   "source": [
    "# Size correction for further methods\n",
    "torch_x_train = torch.unsqueeze(torch_x_train_,1)\n",
    "torch_x_test = torch.unsqueeze(torch_x_test_,1)"
   ]
  },
  {
   "cell_type": "code",
   "execution_count": 11,
   "id": "61c3f298",
   "metadata": {},
   "outputs": [],
   "source": [
    "# Create dataset and dataloader\n",
    "dataset_train = TensorDataset(torch_x_train,torch_y_train) \n",
    "dataloader_train = DataLoader(dataset_train) \n",
    "\n",
    "dataset_test = TensorDataset(torch_x_test,torch_y_test) \n",
    "dataloader_test = DataLoader(dataset_test) "
   ]
  },
  {
   "cell_type": "markdown",
   "id": "3ad53d38",
   "metadata": {},
   "source": [
    "# Define Network Models\n",
    "Convolutional Neural Network is defined. It is consistent with the paper [1]. The paper uses 2D convolution, and construct 1D MFCC features as 2D image. It is found unnecessary. Therefore, 1D convolution is used in this project. Layer types and numbers are consistent with the paper. \n",
    "\n",
    "[1] K. J. Piczak, \"Environmental sound classification with convolutional neural networks,\"\n",
    "2015 IEEE 25th International Workshop on Machine Learning for Signal Processing (MLSP),\n",
    "2015, pp. 1-6, doi: 10.1109/MLSP.2015.7324337."
   ]
  },
  {
   "cell_type": "code",
   "execution_count": 12,
   "id": "629df56d",
   "metadata": {},
   "outputs": [],
   "source": [
    "class ConvNetQuant(torch.nn.Module):\n",
    "    def __init__(self):\n",
    "        super().__init__() \n",
    "        self.conv1 = nn.Conv1d(in_channels=1, out_channels=24, kernel_size=5, padding=0)\n",
    "        self.conv2 = nn.Conv1d(in_channels=24, out_channels=36, kernel_size=4, padding=0)\n",
    "        self.conv3 = nn.Conv1d(in_channels=36, out_channels=48, kernel_size=3, padding=0)\n",
    "\n",
    "        self.lin1 = nn.Linear(in_features=48, out_features=60)\n",
    "        \n",
    "        self.quant = torch.quantization.QuantStub()\n",
    "        self.dequant = torch.quantization.DeQuantStub()\n",
    "        \n",
    "        self.classifier = torch.nn.Sequential(\n",
    "            nn.Dropout(0.5),\n",
    "            nn.Linear(in_features=60, out_features=10),\n",
    "        )\n",
    "        \n",
    "        self.relu0 = torch.nn.ReLU()\n",
    "        self.relu1 = torch.nn.ReLU()\n",
    "        self.relu2 = torch.nn.ReLU()\n",
    "        self.relu3 = torch.nn.ReLU()      \n",
    "        \n",
    "    def forward(self, x):\n",
    "        # Pointing where the quantization starts with quant()\n",
    "        x = self.quant(x)\n",
    "        \n",
    "        # cnn layer-1\n",
    "        x = self.conv1(x)\n",
    "        x = F.max_pool1d(x, kernel_size=3, stride=3)\n",
    "        x = self.relu0(x)\n",
    "\n",
    "        # cnn layer-2\n",
    "        x = self.conv2(x)\n",
    "        x = F.max_pool1d(x, kernel_size=2, stride=2)\n",
    "        x = self.relu1(x)\n",
    "\n",
    "        # cnn layer-3\n",
    "        x = self.conv3(x)\n",
    "        x = self.relu2(x)\n",
    "\n",
    "        # global average pooling 1D\n",
    "        x = F.avg_pool1d(x, kernel_size=x.size()[2:])\n",
    "        x = x.view(-1, 48)\n",
    "\n",
    "        # dense layer-1\n",
    "        x = self.lin1(x)\n",
    "        x = self.relu3(x)\n",
    "\n",
    "        # dense output layer\n",
    "        x = self.classifier(x)\n",
    "        x = self.dequant(x)\n",
    "\n",
    "        return x\n",
    "    \n",
    "convnet = ConvNetQuant()"
   ]
  },
  {
   "cell_type": "code",
   "execution_count": 13,
   "id": "158fad7b",
   "metadata": {},
   "outputs": [
    {
     "name": "stdout",
     "output_type": "stream",
     "text": [
      "torch.Size([1, 10])\n"
     ]
    }
   ],
   "source": [
    "# Test the nn model to see it generates output for 10 classes in the dataset\n",
    "test_convnet = ConvNetQuant()\n",
    "test_input = torch.randn(1,1,128)\n",
    "test_output = test_convnet(test_input)\n",
    "print(test_output.shape)"
   ]
  },
  {
   "cell_type": "code",
   "execution_count": 14,
   "id": "655210d3",
   "metadata": {},
   "outputs": [],
   "source": [
    "# Optimizer and loss function. They are good choices for a cnn networks\n",
    "optimizer = optim.Adam(convnet.parameters(), lr=0.001, eps=1e-07, weight_decay=1e-3)\n",
    "loss_fn = torch.nn.CrossEntropyLoss()"
   ]
  },
  {
   "cell_type": "markdown",
   "id": "664261f0",
   "metadata": {},
   "source": [
    "# Training & Accuracy Check"
   ]
  },
  {
   "cell_type": "code",
   "execution_count": 15,
   "id": "7ed6642e",
   "metadata": {},
   "outputs": [],
   "source": [
    "def check_accuracy(neuralnet, dataloader, timer = False):\n",
    "    correct_ = 0 \n",
    "    total_ = 0\n",
    "    elapsed = 0\n",
    "    num_counted = 0\n",
    "    # Accuracy check should be in evaluation mode\n",
    "    neuralnet.eval()\n",
    "    with torch.no_grad():\n",
    "        \n",
    "        for data in dataloader:\n",
    "            audio, labels = data\n",
    "            # Timer is to check the inference time of the model\n",
    "            if timer:\n",
    "                start = time.time()\n",
    "                outputs_ = neuralnet(audio)\n",
    "                end = time.time()\n",
    "                elapsed = elapsed + (end-start)\n",
    "                num_counted += 1\n",
    "            else:\n",
    "                outputs_ = neuralnet(audio)\n",
    "            # Reshaping for further process\n",
    "            outputs = outputs_.squeeze()\n",
    "            labels = labels.squeeze()\n",
    "            \n",
    "            size_ = outputs.size()\n",
    "            output_result = torch.argmax(outputs)\n",
    "            label_result = torch.argmax(labels)\n",
    "            # Check results\n",
    "            for x in range(size_[0]):\n",
    "                total_ += 1\n",
    "                if (torch.eq(output_result,label_result)):\n",
    "                    correct_ += 1\n",
    "    # \n",
    "    if timer:\n",
    "        print('Total elapsed-inference time: ', elapsed)\n",
    "        print('Total number of input passed for inference: ', num_counted)\n",
    "\n",
    "    accuracy = correct_ / total_\n",
    "\n",
    "    return accuracy "
   ]
  },
  {
   "cell_type": "code",
   "execution_count": 16,
   "id": "b5c66427",
   "metadata": {},
   "outputs": [],
   "source": [
    "# Since PyTorch accumulates the gradients on subsequent backward passes, we should make zero the gradient for every mini-batch.\n",
    "# Then, give input to nn model and get output. Calculate loss with comparing output and labels by using loss function.\n",
    "# Then, we should compute gradient parameters by backward propagation of loss\n",
    "# Then, we should update paramets based on current gradient. \n",
    "def train_one_epoch(neuralnet, dataloader, optimizer_, loss_fn_):\n",
    "    # The model should be in train mode\n",
    "    neuralnet.train()\n",
    "    for data_batch, labels_batch in dataloader:\n",
    "        \n",
    "        optimizer_.zero_grad()\n",
    "        outputs = neuralnet(data_batch)\n",
    "        loss = loss_fn_(outputs, labels_batch)\n",
    "        loss.backward()\n",
    "        optimizer_.step()"
   ]
  },
  {
   "cell_type": "code",
   "execution_count": 17,
   "id": "57d20122",
   "metadata": {},
   "outputs": [
    {
     "name": "stdout",
     "output_type": "stream",
     "text": [
      "Epoch 1...\n",
      "Training   accuracy: 48.02%\n",
      "Validation accuracy: 49.00%\n",
      "Epoch 2...\n",
      "Training   accuracy: 57.42%\n",
      "Validation accuracy: 57.07%\n",
      "Epoch 3...\n",
      "Training   accuracy: 60.62%\n",
      "Validation accuracy: 61.48%\n",
      "Epoch 4...\n",
      "Training   accuracy: 66.07%\n",
      "Validation accuracy: 65.71%\n",
      "Epoch 5...\n",
      "Training   accuracy: 69.19%\n",
      "Validation accuracy: 67.49%\n",
      "Epoch 6...\n",
      "Training   accuracy: 70.91%\n",
      "Validation accuracy: 69.83%\n",
      "Epoch 7...\n",
      "Training   accuracy: 72.94%\n",
      "Validation accuracy: 71.84%\n",
      "Epoch 8...\n",
      "Training   accuracy: 76.23%\n",
      "Validation accuracy: 74.64%\n",
      "Epoch 9...\n",
      "Training   accuracy: 76.71%\n",
      "Validation accuracy: 75.39%\n",
      "Epoch 10...\n",
      "Training   accuracy: 75.88%\n",
      "Validation accuracy: 75.84%\n",
      "Epoch 11...\n",
      "Training   accuracy: 78.45%\n",
      "Validation accuracy: 76.42%\n",
      "Epoch 12...\n",
      "Training   accuracy: 77.65%\n",
      "Validation accuracy: 76.59%\n",
      "Epoch 13...\n",
      "Training   accuracy: 81.06%\n",
      "Validation accuracy: 78.59%\n",
      "Epoch 14...\n",
      "Training   accuracy: 76.74%\n",
      "Validation accuracy: 75.44%\n",
      "Epoch 15...\n",
      "Training   accuracy: 81.07%\n",
      "Validation accuracy: 78.99%\n",
      "Epoch 16...\n",
      "Training   accuracy: 81.10%\n",
      "Validation accuracy: 78.94%\n",
      "Epoch 17...\n",
      "Training   accuracy: 80.97%\n",
      "Validation accuracy: 78.88%\n",
      "Epoch 18...\n",
      "Training   accuracy: 81.09%\n",
      "Validation accuracy: 78.42%\n",
      "Epoch 19...\n",
      "Training   accuracy: 82.46%\n",
      "Validation accuracy: 79.68%\n",
      "Epoch 20...\n",
      "Training   accuracy: 82.73%\n",
      "Validation accuracy: 79.91%\n",
      "Epoch 21...\n",
      "Training   accuracy: 82.25%\n",
      "Validation accuracy: 80.31%\n",
      "Epoch 22...\n",
      "Training   accuracy: 84.29%\n",
      "Validation accuracy: 81.97%\n",
      "Epoch 23...\n",
      "Training   accuracy: 78.58%\n",
      "Validation accuracy: 75.44%\n",
      "Epoch 24...\n",
      "Training   accuracy: 83.52%\n",
      "Validation accuracy: 80.19%\n",
      "Epoch 25...\n",
      "Training   accuracy: 86.07%\n",
      "Validation accuracy: 80.94%\n"
     ]
    }
   ],
   "source": [
    "# Training the network\n",
    "training_accuracy_list = []\n",
    "validation_accuracy_list = []\n",
    "def train(network, num_epoch = 25):\n",
    "    network.train()\n",
    "    for epoch_no in range(num_epoch):\n",
    "        print(f'Epoch {epoch_no + 1}...')\n",
    "\n",
    "        train_one_epoch(network, dataloader_train, optimizer, loss_fn)\n",
    "\n",
    "        training_accuracy = check_accuracy(network, dataloader_train)\n",
    "        print(f'Training   accuracy: {training_accuracy * 100 :.2f}%')\n",
    "        validation_accuracy = check_accuracy(network, dataloader_test)\n",
    "        print(f'Validation accuracy: {validation_accuracy * 100 :.2f}%')\n",
    "\n",
    "        training_accuracy_list.append(training_accuracy)\n",
    "        validation_accuracy_list.append(validation_accuracy)  \n",
    "train(convnet)\n",
    "# Save the trained model parameters\n",
    "torch.save(convnet.state_dict(),\"./model_save\")"
   ]
  },
  {
   "cell_type": "code",
   "execution_count": 18,
   "id": "3853a25b",
   "metadata": {},
   "outputs": [
    {
     "data": {
      "image/png": "[encoded data removed]",
      "text/plain": [
       "<Figure size 432x288 with 1 Axes>"
      ]
     },
     "metadata": {
      "needs_background": "light"
     },
     "output_type": "display_data"
    }
   ],
   "source": [
    "# Plot the Accuracy of training and validation\n",
    "plt.plot(training_accuracy_list, label = \"Training\")\n",
    "plt.plot(validation_accuracy_list, label = \"Validation\")\n",
    "plt.xlabel('Number of Epochs')\n",
    "plt.ylabel('Accuracy')\n",
    "plt.legend()\n",
    "plt.show()\n"
   ]
  },
  {
   "cell_type": "markdown",
   "id": "4c43338a",
   "metadata": {},
   "source": [
    "# Quantization\n",
    "Three types of quantization are used. They are static post training quantization, dynamic post training quantization, and quantization aware training. Pytorch library is used for quantization."
   ]
  },
  {
   "cell_type": "code",
   "execution_count": 19,
   "id": "ff8af58f",
   "metadata": {},
   "outputs": [
    {
     "data": {
      "text/plain": [
       "ConvNetQuant(\n",
       "  (conv1): Conv1d(1, 24, kernel_size=(5,), stride=(1,))\n",
       "  (conv2): Conv1d(24, 36, kernel_size=(4,), stride=(1,))\n",
       "  (conv3): Conv1d(36, 48, kernel_size=(3,), stride=(1,))\n",
       "  (lin1): Linear(in_features=48, out_features=60, bias=True)\n",
       "  (quant): QuantStub()\n",
       "  (dequant): DeQuantStub()\n",
       "  (classifier): Sequential(\n",
       "    (0): Dropout(p=0.5, inplace=False)\n",
       "    (1): Linear(in_features=60, out_features=10, bias=True)\n",
       "  )\n",
       "  (relu0): ReLU()\n",
       "  (relu1): ReLU()\n",
       "  (relu2): ReLU()\n",
       "  (relu3): ReLU()\n",
       ")"
      ]
     },
     "execution_count": 19,
     "metadata": {},
     "output_type": "execute_result"
    }
   ],
   "source": [
    "# Load saved model parameters for non-quantized model eveluation\n",
    "loaded_model_nq = ConvNetQuant()\n",
    "loaded_model_nq.load_state_dict(torch.load(\"./model_save\"))\n",
    "loaded_model_nq.eval()\n",
    "\n",
    "# Load saved model parameters for Static Post Training Quantization \n",
    "loaded_model_pqs = ConvNetQuant()\n",
    "loaded_model_pqs.load_state_dict(torch.load(\"./model_save\"))\n",
    "loaded_model_pqs.eval()\n",
    "\n",
    "# Load saved model parameters for Dynamic Post Training Quantization \n",
    "loaded_model_pqd = ConvNetQuant()\n",
    "loaded_model_pqd.load_state_dict(torch.load(\"./model_save\"))\n",
    "loaded_model_pqd.eval()\n",
    "\n",
    "# Load saved model parameters for Quantization Aware Training\n",
    "loaded_model_qat = ConvNetQuant()\n",
    "loaded_model_qat.load_state_dict(torch.load(\"./model_save\"))\n",
    "loaded_model_qat.eval()"
   ]
  },
  {
   "cell_type": "markdown",
   "id": "21cd288d",
   "metadata": {},
   "source": [
    "## Post Quantization - Static (PQS)\n",
    "Static quantization quantizes the weights and activations of the model. It fuses activations into preceding layers where possible. It requires calibration with a representative dataset to determine optimal quantization parameters for activations.\n",
    "\n",
    "Warning: Pytorch quantization implementation is in Beta version. Therefore, it gives some warnings. Searching the warning on pytorch website shows that it is normal and should not be concern."
   ]
  },
  {
   "cell_type": "code",
   "execution_count": 20,
   "id": "6e4e1b3c",
   "metadata": {},
   "outputs": [
    {
     "name": "stdout",
     "output_type": "stream",
     "text": [
      "QConfig(activation=functools.partial(<class 'torch.ao.quantization.observer.HistogramObserver'>, reduce_range=True){}, weight=functools.partial(<class 'torch.ao.quantization.observer.PerChannelMinMaxObserver'>, dtype=torch.qint8, qscheme=torch.per_channel_symmetric){})\n"
     ]
    },
    {
     "name": "stderr",
     "output_type": "stream",
     "text": [
      "C:\\Users\\HAKAN\\anaconda3\\lib\\site-packages\\torch\\ao\\quantization\\observer.py:172: UserWarning: Please use quant_min and quant_max to specify the range for observers.                     reduce_range will be deprecated in a future release of PyTorch.\n",
      "  warnings.warn(\n"
     ]
    },
    {
     "name": "stdout",
     "output_type": "stream",
     "text": [
      "Post Training Quantization - Static: Calibration done\n",
      "Post Training Quantization - Static: Convert done\n"
     ]
    },
    {
     "name": "stderr",
     "output_type": "stream",
     "text": [
      "C:\\Users\\HAKAN\\anaconda3\\lib\\site-packages\\torch\\ao\\quantization\\observer.py:886: UserWarning: __floordiv__ is deprecated, and its behavior will change in a future version of pytorch. It currently rounds toward 0 (like the 'trunc' function NOT 'floor'). This results in incorrect rounding for negative values. To keep the current behavior, use torch.div(a, b, rounding_mode='trunc'), or for actual floor division, use torch.div(a, b, rounding_mode='floor').\n",
      "  src_bin_begin // dst_bin_width, 0, self.dst_nbins - 1\n",
      "C:\\Users\\HAKAN\\anaconda3\\lib\\site-packages\\torch\\ao\\quantization\\observer.py:891: UserWarning: __floordiv__ is deprecated, and its behavior will change in a future version of pytorch. It currently rounds toward 0 (like the 'trunc' function NOT 'floor'). This results in incorrect rounding for negative values. To keep the current behavior, use torch.div(a, b, rounding_mode='trunc'), or for actual floor division, use torch.div(a, b, rounding_mode='floor').\n",
      "  src_bin_end // dst_bin_width, 0, self.dst_nbins - 1\n"
     ]
    }
   ],
   "source": [
    "# 'fbgemm' is suitable for the most of the personal computers with x86 architecture. \n",
    "# Since quantization is dependent on the hardware, it is important to choose correct qconfig.\n",
    "loaded_model_pqs.qconfig = torch.quantization.get_default_qconfig('fbgemm')\n",
    "print(loaded_model_pqs.qconfig)\n",
    "\n",
    "# Fuse the activations to preceding layers, where applicable.\n",
    "laoded_model_fused_pqs = torch.quantization.fuse_modules(loaded_model_pqs, [['conv3', 'relu2'], ['lin1', 'relu3']])\n",
    "\n",
    "# Prepare the model for static quantization. This inserts observers in\n",
    "# the model that will observe activation tensors during calibration.\n",
    "loaded_model_prepared_pqs = torch.quantization.prepare(laoded_model_fused_pqs)\n",
    "\n",
    "# calibrate the prepared model to determine quantization parameters for activations\n",
    "check_accuracy(loaded_model_prepared_pqs, dataloader_test)\n",
    "\n",
    "print('Post Training Quantization - Static: Calibration done')\n",
    "\n",
    "# Convert the observed model to a quantized model. This does several things:\n",
    "# quantizes the weights, computes and stores the scale and bias value to be\n",
    "# used with each activation tensor, and replaces key operators with quantized\n",
    "# implementations.\n",
    "quantized_model_pqs = torch.quantization.convert(loaded_model_prepared_pqs)\n",
    "print('Post Training Quantization - Static: Convert done')"
   ]
  },
  {
   "cell_type": "markdown",
   "id": "6f305e10",
   "metadata": {},
   "source": [
    "## Post Quantization - Dynamic\n",
    "Weights are quantized ahead of time but the activations are dynamically quantized during inference. "
   ]
  },
  {
   "cell_type": "code",
   "execution_count": 21,
   "id": "609dfafb",
   "metadata": {},
   "outputs": [
    {
     "name": "stdout",
     "output_type": "stream",
     "text": [
      "Post Training Quantization - Dynamic: Calibration done\n"
     ]
    }
   ],
   "source": [
    "quantized_model_pqd = torch.quantization.quantize_dynamic(\n",
    "    loaded_model_pqd,  # the original model\n",
    "    {torch.nn.Linear},  # a set of layers to dynamically quantize\n",
    "    dtype=torch.qint8)  # the target dtype for quantized weights\n",
    "\n",
    "# calibrate the prepared model to determine quantization parameters for activations\n",
    "check_accuracy(quantized_model_pqd, dataloader_test)\n",
    "print('Post Training Quantization - Dynamic: Calibration done')\n",
    "# Since we created quantized model instance, no need for conversion "
   ]
  },
  {
   "cell_type": "markdown",
   "id": "0b58a9df",
   "metadata": {},
   "source": [
    "## Quantization Aware Training\n",
    "\n",
    "Quantization Aware Training models the effects of quantization during training allowing for higher accuracy compared to other quantization methods. During training, all calculations are done in floating point, with fake_quant modules modeling the effects of quantization by clamping and rounding to simulate the effects of INT8. After model conversion, weights and activations are quantized, and activations are fused into the preceding layer where possible."
   ]
  },
  {
   "cell_type": "code",
   "execution_count": 22,
   "id": "a6b4d053",
   "metadata": {},
   "outputs": [
    {
     "name": "stdout",
     "output_type": "stream",
     "text": [
      "QConfig(activation=functools.partial(<class 'torch.ao.quantization.fake_quantize.FusedMovingAvgObsFakeQuantize'>, observer=<class 'torch.ao.quantization.observer.MovingAverageMinMaxObserver'>, quant_min=0, quant_max=255, reduce_range=True){}, weight=functools.partial(<class 'torch.ao.quantization.fake_quantize.FusedMovingAvgObsFakeQuantize'>, observer=<class 'torch.ao.quantization.observer.MovingAveragePerChannelMinMaxObserver'>, quant_min=-128, quant_max=127, dtype=torch.qint8, qscheme=torch.per_channel_symmetric){})\n",
      "Epoch 1...\n",
      "Training   accuracy: 69.59%\n",
      "Validation accuracy: 69.49%\n",
      "Quantization Aware Training: Calibration done\n",
      "Post Training Quantization: Convert done\n"
     ]
    }
   ],
   "source": [
    "# 'fbgemm' is suitable for the most of the personal computers with x86 architecture. \n",
    "# Since quantization is dependent on the hardware, it is important to choose correct qconfig.\n",
    "loaded_model_qat.qconfig = torch.quantization.get_default_qat_qconfig('fbgemm')\n",
    "print(loaded_model_qat.qconfig)\n",
    "\n",
    "# Fuse the activations to preceding layers, where applicable.\n",
    "laoded_model_fused_qat = torch.quantization.fuse_modules(loaded_model_qat, [['conv3', 'relu2'], ['lin1', 'relu3']])\n",
    "\n",
    "# Prepare the model for static quantization. This inserts observers in\n",
    "# the model that will observe activation tensors during calibration.\n",
    "loaded_model_prepared_qat = torch.quantization.prepare_qat(laoded_model_fused_qat)\n",
    "\n",
    "# run the training loop for fine tuning which is the main logic of quantization aware training\n",
    "# Accuracy of this training is lower than actaul performance \n",
    "# becouse it tunes the parameters for quantization, but quantize the model after this training\n",
    "loaded_model_prepared_qat.train()\n",
    "train(loaded_model_prepared_qat, num_epoch = 1)\n",
    "print('Quantization Aware Training: Calibration done')\n",
    "\n",
    "# Convert the observed model to a quantized model. This does several things:\n",
    "# quantizes the weights, computes and stores the scale and bias value to be\n",
    "# used with each activation tensor, and replaces key operators with quantized\n",
    "# implementations.\n",
    "loaded_model_prepared_qat.eval()\n",
    "quantized_model_qat = torch.quantization.convert(loaded_model_prepared_qat)\n",
    "print('Post Training Quantization: Convert done')"
   ]
  },
  {
   "cell_type": "markdown",
   "id": "fac223d8",
   "metadata": {},
   "source": [
    "# Benchmarking Quantization Types\n",
    "There are 3 main parameters for comparision.\n",
    "\n",
    "Accuracy: It is expected that quantization will decrease the accuracy. Dynamic post training quantization quantizae only one linear layer, so accuracy did not decrease at all. Static post training quantization decreases the accuracy. QAT makes fine tuning over the static post training quantization, so accuracy is closer to the non-quantized model. \n",
    "\n",
    "Inference time: It is expected that quantization will make inference faster. However, it did not happen in this project. Pytorch claims that different results can be observed with different hardwares. Also, the pytorch quantization is in beta version. \n",
    "\n",
    "Model size: It is expected that quantization will compress the model size. It is observed. Model size is decreased to half in QAT and static post training quantization. Since only one layer is quantized in dynamic post training quantization, decrease in model size is small. "
   ]
  },
  {
   "cell_type": "code",
   "execution_count": 23,
   "id": "83b54049",
   "metadata": {},
   "outputs": [
    {
     "name": "stdout",
     "output_type": "stream",
     "text": [
      "Time elapsed in non-quantized model:\n",
      "Total elapsed-inference time:  0.6033754348754883\n",
      "Total number of input passed for inference:  1747\n",
      "Validation accuracy of non-quantized model: 80.94%\n",
      "---------------\n",
      "Time elapsed in static post training quantization model:\n",
      "Total elapsed-inference time:  5.50814962387085\n",
      "Total number of input passed for inference:  1747\n",
      "Validation accuracy of static post training quantization model: 61.48%\n",
      "---------------\n",
      "Time elapsed in dynamic post training quantization model:\n",
      "Total elapsed-inference time:  2.4956748485565186\n",
      "Total number of input passed for inference:  1747\n",
      "Validation accuracy of dynamic post training quantization model: 80.88%\n",
      "---------------\n",
      "Time elapsed in quantization aware training model:\n",
      "Total elapsed-inference time:  5.237109661102295\n",
      "Total number of input passed for inference:  1747\n",
      "Validation accuracy of quantization aware training model: 72.52%\n"
     ]
    }
   ],
   "source": [
    "    print('Time elapsed in non-quantized model:')\n",
    "    acc_nq = check_accuracy(loaded_model_nq, dataloader_test, timer = True) #loaded_model_nq\n",
    "    print(f'Validation accuracy of non-quantized model: {acc_nq * 100 :.2f}%')\n",
    "    print('---------------')\n",
    "    \n",
    "    print('Time elapsed in static post training quantization model:')\n",
    "    acc_pqs = check_accuracy(quantized_model_pqs, dataloader_test, timer = True) # quantized_model_pqd\n",
    "    print(f'Validation accuracy of static post training quantization model: {acc_pqs * 100 :.2f}%')\n",
    "    print('---------------')\n",
    "    \n",
    "    print('Time elapsed in dynamic post training quantization model:')\n",
    "    acc_pqd = check_accuracy(quantized_model_pqd, dataloader_test, timer = True) # quantized_model_pqd\n",
    "    print(f'Validation accuracy of dynamic post training quantization model: {acc_pqd * 100 :.2f}%')\n",
    "    print('---------------')\n",
    "    \n",
    "    print('Time elapsed in quantization aware training model:')\n",
    "    acc_qat = check_accuracy(quantized_model_qat, dataloader_test, timer = True) #quantized_model_qat\n",
    "    print(f'Validation accuracy of quantization aware training model: {acc_qat * 100 :.2f}%')"
   ]
  },
  {
   "cell_type": "code",
   "execution_count": 24,
   "id": "f71741c5",
   "metadata": {},
   "outputs": [],
   "source": [
    "def print_size_of_model(model):\n",
    "    torch.save(model.state_dict(), \"temp.p\")\n",
    "    print('Size (MB):', os.path.getsize(\"temp.p\")/1e6)\n",
    "    os.remove('temp.p')"
   ]
  },
  {
   "cell_type": "code",
   "execution_count": 25,
   "id": "4f0fa25c",
   "metadata": {},
   "outputs": [
    {
     "name": "stdout",
     "output_type": "stream",
     "text": [
      "Size of non-quantized model:\n",
      "Size (MB): 0.052679\n",
      "Size of static post training quantization model:\n",
      "Size (MB): 0.024837\n",
      "Size of dynamic post training quantization model:\n",
      "Size (MB): 0.043579\n",
      "Size of quantization aware training model:\n",
      "Size (MB): 0.024837\n"
     ]
    }
   ],
   "source": [
    "## Size of the model is an important parameter to evaluate quantization effect\n",
    "print(\"Size of non-quantized model:\")\n",
    "print_size_of_model(loaded_model_nq)\n",
    "print(\"Size of static post training quantization model:\")\n",
    "print_size_of_model(quantized_model_pqs)\n",
    "print(\"Size of dynamic post training quantization model:\")\n",
    "print_size_of_model(quantized_model_pqd)\n",
    "print(\"Size of quantization aware training model:\")\n",
    "print_size_of_model(quantized_model_qat)"
   ]
  },
  {
   "cell_type": "code",
   "execution_count": null,
   "id": "610fe66c",
   "metadata": {},
   "outputs": [],
   "source": []
  }
 ],
 "metadata": {
  "kernelspec": {
   "display_name": "Python 3 (ipykernel)",
   "language": "python",
   "name": "python3"
  },
  "language_info": {
   "codemirror_mode": {
    "name": "ipython",
    "version": 3
   },
   "file_extension": ".py",
   "mimetype": "text/x-python",
   "name": "python",
   "nbconvert_exporter": "python",
   "pygments_lexer": "ipython3",
   "version": "3.9.7"
  }
 },
 "nbformat": 4,
 "nbformat_minor": 5
}
